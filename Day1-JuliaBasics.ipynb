{
 "cells": [
  {
   "cell_type": "markdown",
   "metadata": {},
   "source": [
    "# Hướng dẫn cơ bản về Julia"
   ]
  },
  {
   "cell_type": "markdown",
   "metadata": {},
   "source": [
    "### Sử dụng hàm toán học có sẵn trong Julia"
   ]
  },
  {
   "cell_type": "markdown",
   "metadata": {},
   "source": [
    "### Lập các hàm số trong Julia"
   ]
  },
  {
   "cell_type": "markdown",
   "metadata": {},
   "source": [
    "### Vec tơ, hàm của vec tơ\n",
    "\n",
    "Một vec tơ được đặt trong dấu ngoặc vuông. Như ở bài tập khối siêu cầu, ta đã có vec tơ `[xđ yđ zđ uđ]`. \n",
    "\n",
    "Vec tơ có thể có ý nghĩa hình học, hoặc chỉ đơn thuần là một dãy các số có xếp thứ tự. \n",
    "\n",
    "Hàm số có thể nhận tham số là vec tơ. Chẳng hạn hàm tính tổng `sum`, hoặc hàm `norm` ở bài tập siêu cầu. "
   ]
  },
  {
   "cell_type": "code",
   "execution_count": 12,
   "metadata": {
    "collapsed": false
   },
   "outputs": [
    {
     "data": {
      "text/plain": [
       "14"
      ]
     },
     "execution_count": 12,
     "metadata": {},
     "output_type": "execute_result"
    }
   ],
   "source": [
    "sum([2,3,4,5])"
   ]
  },
  {
   "cell_type": "code",
   "execution_count": 1,
   "metadata": {
    "collapsed": false
   },
   "outputs": [
    {
     "data": {
      "text/plain": [
       "24"
      ]
     },
     "execution_count": 1,
     "metadata": {},
     "output_type": "execute_result"
    }
   ],
   "source": [
    "function tích(V)\n",
    "    t = 1\n",
    "    for v in V\n",
    "        t *= v\n",
    "    end\n",
    "    t\n",
    "end\n",
    "\n",
    "tích([2,3,4])"
   ]
  },
  {
   "cell_type": "markdown",
   "metadata": {},
   "source": [
    "Một kiểu số liệu nữa là dãy số, ta đã gặp ở vòng lặp `for`. Dãy số có thể dùng ở nhiều phép tính thay cho vec tơ, nhưng chúng không giống nhau."
   ]
  },
  {
   "cell_type": "code",
   "execution_count": 7,
   "metadata": {
    "collapsed": false
   },
   "outputs": [
    {
     "data": {
      "text/plain": [
       "false"
      ]
     },
     "execution_count": 7,
     "metadata": {},
     "output_type": "execute_result"
    }
   ],
   "source": [
    "X = 1:5\n",
    "Y = [1,2,3,4,5]\n",
    "X == Y"
   ]
  },
  {
   "cell_type": "markdown",
   "metadata": {},
   "source": [
    "Một dạng quan trọng của hàm số đối với vec tơ là nhận một vec tơ và thực hiện phép tính với từng phần tử của vec tơ đó. Chẳng hạn:"
   ]
  },
  {
   "cell_type": "code",
   "execution_count": 11,
   "metadata": {
    "collapsed": false
   },
   "outputs": [
    {
     "data": {
      "text/plain": [
       "4-element Array{Float64,1}:\n",
       " 5.0 \n",
       " 3.0 \n",
       " 8.4 \n",
       " 1.87"
      ]
     },
     "execution_count": 11,
     "metadata": {},
     "output_type": "execute_result"
    }
   ],
   "source": [
    "abs([-5,3,8.4,-1.87])"
   ]
  },
  {
   "cell_type": "code",
   "execution_count": 6,
   "metadata": {
    "collapsed": false,
    "scrolled": true
   },
   "outputs": [
    {
     "data": {
      "text/plain": [
       "5-element Array{Float64,1}:\n",
       " 1.0    \n",
       " 1.41421\n",
       " 1.73205\n",
       " 2.0    \n",
       " 2.23607"
      ]
     },
     "execution_count": 6,
     "metadata": {},
     "output_type": "execute_result"
    }
   ],
   "source": [
    "sqrt(X)"
   ]
  },
  {
   "cell_type": "markdown",
   "metadata": {},
   "source": [
    "Một tình huống thường gặp là cần áp dụng của hàm tự viết cho tham số là 1 vec tơ thay vì một số. Thông thường, nếu nội dung của hàm này chỉ có phép tính đơn giản thì có thể gọi hàm được. Chẳng hạn một hàm vận tốc dòng chảy qua lỗ trên bình chứa:\n",
    "$$ v = \\phi \\sqrt{2gH} $$"
   ]
  },
  {
   "cell_type": "code",
   "execution_count": 2,
   "metadata": {
    "collapsed": false
   },
   "outputs": [
    {
     "data": {
      "text/plain": [
       "4-element Array{Float64,1}:\n",
       " 1.97322\n",
       " 2.16155\n",
       " 2.64735\n",
       " 3.0569 "
      ]
     },
     "execution_count": 2,
     "metadata": {},
     "output_type": "execute_result"
    }
   ],
   "source": [
    "vận_tốc(H) = 0.63*sqrt(9.81H)\n",
    "V = vận_tốc([1,1.2,1.8,2.4])"
   ]
  },
  {
   "cell_type": "markdown",
   "metadata": {},
   "source": [
    "Nhưng nếu hàm phức tạp có các lệnh lặp và lệnh điều kiện (như ta thường gặp trong các bài toán kĩ thuật) thì cách làm trên lại không được. Chẳng hạn, để giải biểu thức phân tán sóng:\n",
    "\n",
    "$$ L = L_0 \\tanh (2\\pi h/L) $$\n",
    "\n",
    "ta cần viết một hàm tính lặp:"
   ]
  },
  {
   "cell_type": "code",
   "execution_count": 3,
   "metadata": {
    "collapsed": false
   },
   "outputs": [
    {
     "data": {
      "text/plain": [
       "53.10377348111278"
      ]
     },
     "execution_count": 3,
     "metadata": {},
     "output_type": "execute_result"
    }
   ],
   "source": [
    "function tính_L(L₀, h)\n",
    "    L = L₀\n",
    "    sai_số = Inf\n",
    "    while sai_số > 0.00001\n",
    "        L₁ = L₀ * tanh(2π*h/L)\n",
    "        sai_số = abs(L₁ - L)/L\n",
    "        L = L₁\n",
    "    end\n",
    "    L\n",
    "end\n",
    "\n",
    "tính_L(100,5)"
   ]
  },
  {
   "cell_type": "markdown",
   "metadata": {},
   "source": [
    "Nhưng để áp dụng cho một vec tơ gía trị của $h$ thì có vấn đề:"
   ]
  },
  {
   "cell_type": "code",
   "execution_count": 4,
   "metadata": {
    "collapsed": false,
    "scrolled": true
   },
   "outputs": [
    {
     "ename": "LoadError",
     "evalue": "`isless` has no method matching isless(::Float64, ::Array{Float64,1})\nwhile loading In[4], in expression starting on line 1",
     "output_type": "error",
     "traceback": [
      "`isless` has no method matching isless(::Float64, ::Array{Float64,1})\nwhile loading In[4], in expression starting on line 1",
      "",
      " in > at operators.jl:33",
      " in tính_L at In[3]:7"
     ]
    }
   ],
   "source": [
    "L = tính_L(100,[2,4,7,10])"
   ]
  },
  {
   "cell_type": "markdown",
   "metadata": {
    "collapsed": true
   },
   "source": [
    "Để khắc phục được điều này người ta dùng cách viết như sau:"
   ]
  },
  {
   "cell_type": "code",
   "execution_count": 5,
   "metadata": {
    "collapsed": false,
    "scrolled": true
   },
   "outputs": [
    {
     "data": {
      "text/plain": [
       "4-element Array{Union(Int64,Float64),1}:\n",
       " 34.7054\n",
       " 53.1038\n",
       " 61.4361\n",
       " 70.932 "
      ]
     },
     "execution_count": 5,
     "metadata": {},
     "output_type": "execute_result"
    }
   ],
   "source": [
    "L = [tính_L(100, hᵢ) for hᵢ in [2,5,7,10]]"
   ]
  },
  {
   "cell_type": "markdown",
   "metadata": {},
   "source": [
    "Cách viết này giống trong toán học: \n",
    "$$ \\{ f(x) | x \\in S \\} $$"
   ]
  },
  {
   "cell_type": "markdown",
   "metadata": {},
   "source": [
    "### Vẽ đồ thị hàm số \n",
    "\n",
    "Trước hết, cần một lệnh yêu cầu sử dụng gói phần mềm phục vụ vẽ đồ thị. Lưu ý rằng trong JuliaBox, có thể phải chọn phiên bản Julia cũ (0.3.x) mới vẽ được."
   ]
  },
  {
   "cell_type": "code",
   "execution_count": 7,
   "metadata": {
    "collapsed": false
   },
   "outputs": [
    {
     "name": "stderr",
     "output_type": "stream",
     "text": [
      "INFO: Loading help data...\n"
     ]
    }
   ],
   "source": [
    "using PyPlot"
   ]
  },
  {
   "cell_type": "code",
   "execution_count": 22,
   "metadata": {
    "collapsed": false
   },
   "outputs": [
    {
     "data": {
      "image/png": "[encoded data removed]",
      "text/plain": [
       "Figure(PyObject <matplotlib.figure.Figure object at 0x7f74e63be910>)"
      ]
     },
     "metadata": {},
     "output_type": "display_data"
    },
    {
     "data": {
      "text/plain": [
       "PyObject <matplotlib.legend.Legend object at 0x7f74e62cb550>"
      ]
     },
     "execution_count": 22,
     "metadata": {},
     "output_type": "execute_result"
    }
   ],
   "source": [
    "X = 1:5\n",
    "\n",
    "plot(X,sqrt(X), linestyle=\":\") \n",
    "plot(X,X.^(1/3), linestyle=\"--\", color=\"blue\") \n",
    "plot(X,0.5X)\n",
    "\n",
    "legend([L\"\\sqrt{X}\", L\"X^{1/3}\", L\"\\eta\"], loc=4)"
   ]
  }
 ],
 "metadata": {
  "kernelspec": {
   "display_name": "Julia 0.3.12",
   "language": "julia",
   "name": "julia-0.3"
  },
  "language_info": {
   "file_extension": ".jl",
   "mimetype": "application/julia",
   "name": "julia",
   "version": "0.3.12"
  }
 },
 "nbformat": 4,
 "nbformat_minor": 0
}
