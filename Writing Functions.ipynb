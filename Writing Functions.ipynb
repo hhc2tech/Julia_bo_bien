{
 "cells": [
  {
   "cell_type": "markdown",
   "metadata": {},
   "source": [
    "Có thể nói hàm là các \"viên gạch\" trong quá trình xây dựng chương trình Julia. Cách thiết lập các hàm thường đa dạng: từ những hàm ẩn danh được dùng _inline_, hàm được khai báo trên một dòng, đến các hàm đầy đủ (có phần thân hàm được viết trên nhiều dòng). "
   ]
  },
  {
   "cell_type": "markdown",
   "metadata": {},
   "source": [
    "## Tính căn bậc hai\n",
    "\n",
    "Để lấy ví dụ, ta hãy tính một hàm xấp xỉ căn bậc hai $\\sqrt{c}$ bằng phép gần đúng liên tiếp kinh điển sau đây:\n",
    "$$ x_{i+1} = \\frac{1}{2} \\left(x_i + \\frac{c}{x_i} \\right). $$"
   ]
  },
  {
   "cell_type": "markdown",
   "metadata": {},
   "source": [
    "Hãy hoàn thành đoạn mã lệnh phía dưới bằng cách điền các biến, giá trị hay biểu thức vào các dấu ... để có một hàm tính đúng và không bị lỗi. "
   ]
  },
  {
   "cell_type": "code",
   "execution_count": 1,
   "metadata": {
    "collapsed": false
   },
   "outputs": [
    {
     "data": {
      "text/plain": [
       "căn_hai (generic function with 2 methods)"
      ]
     },
     "execution_count": 1,
     "metadata": {},
     "output_type": "execute_result"
    }
   ],
   "source": [
    "#function căn_hai(c, x₀)\n",
    "#function căn_hai(c, x₀=c)\n",
    "function căn_hai(c::Number, x₀::Number=c)\n",
    "    # tính √c dựa trên phán đoán ban đầu bằng x₀\n",
    "    sai_số = Inf # vô cùng\n",
    "    x = x₀\n",
    "    s_lần_lặp = 100 # bạn tự nhập vào. Thông thường phép lặp sẽ đủ chính xác sau vài chục bước.\n",
    "    for i = 1:s_lần_lặp\n",
    "        if sai_số ≤ 0.00001c  # kiểm tra sai số, nếu đủ nhỏ thì ngừng tính lặp  \n",
    "            break    # kết thúc lặp\n",
    "        end\n",
    "        x₁ = 0.5(x + c/x)\n",
    "        sai_số = abs(x₁ - x)\n",
    "        x = x₁ \n",
    "    end\n",
    "    x\n",
    "end     "
   ]
  },
  {
   "cell_type": "code",
   "execution_count": 3,
   "metadata": {
    "collapsed": false
   },
   "outputs": [
    {
     "data": {
      "text/plain": [
       "căn_hai (generic function with 3 methods)"
      ]
     },
     "execution_count": 3,
     "metadata": {},
     "output_type": "execute_result"
    }
   ],
   "source": [
    "#function căn_hai(c, x₀)\n",
    "#function căn_hai(c, x₀=c)\n",
    "function căn_hai(c::Number, x₀::Number=c, s_lần_lặp::Number=50)\n",
    "    # tính √c dựa trên phán đoán ban đầu bằng x₀\n",
    "    sai_số = Inf # vô cùng\n",
    "    x = x₀\n",
    "    # s_lần_lặp = 100 # bạn tự nhập vào. Thông thường phép lặp sẽ đủ chính xác sau vài chục bước.\n",
    "    for i = 1:s_lần_lặp\n",
    "        if sai_số ≤ 0.00001c  # kiểm tra sai số, nếu đủ nhỏ thì ngừng tính lặp  \n",
    "            break    # kết thúc lặp\n",
    "        end\n",
    "        x₁ = 0.5(x + c/x)\n",
    "        sai_số = abs(x₁ - x)\n",
    "        x = x₁ \n",
    "    end\n",
    "    x\n",
    "end     "
   ]
  },
  {
   "cell_type": "code",
   "execution_count": 4,
   "metadata": {
    "collapsed": false
   },
   "outputs": [
    {
     "data": {
      "text/plain": [
       "1.4142135623731003"
      ]
     },
     "execution_count": 4,
     "metadata": {},
     "output_type": "execute_result"
    }
   ],
   "source": [
    "căn_hai(2, 1.8, 1000)"
   ]
  },
  {
   "cell_type": "code",
   "execution_count": 2,
   "metadata": {
    "collapsed": false
   },
   "outputs": [
    {
     "data": {
      "text/plain": [
       "1.4142135623746899"
      ]
     },
     "execution_count": 2,
     "metadata": {},
     "output_type": "execute_result"
    }
   ],
   "source": [
    "căn_hai(2, 1.5)"
   ]
  },
  {
   "cell_type": "code",
   "execution_count": 5,
   "metadata": {
    "collapsed": false
   },
   "outputs": [
    {
     "data": {
      "text/plain": [
       "1.4142135623746899"
      ]
     },
     "execution_count": 5,
     "metadata": {},
     "output_type": "execute_result"
    }
   ],
   "source": [
    "căn_hai(2)   # với ước đoán mặc định ban đầu bằng 2"
   ]
  },
  {
   "cell_type": "markdown",
   "metadata": {},
   "source": [
    "Ta có thể thỏa mãn với kết quả tính toán này. Phần thuật toán quá đơn giản, song hãy lưu ý cách trình bày mã lệnh cho hợp lý. Hãy chú ý:\n",
    "\n",
    "* Các kiểu của tham số cần được ghi rõ là kiểu `Number`. (Kiểu của hàm thì không quan trọng bằng, vì dù sao Julia cũng tự suy ra được kiểu của hàm số.)\n",
    "\n",
    "* Tham số thứ hai, x<sub>0</sub>, là tham số tùy chọn. Xem hai cách gọi hàm đã trình bày.\n",
    "\n",
    "Bạn có thể viết mã lệnh còn đẹp hơn thế này, điều đó rất tốt!\n"
   ]
  },
  {
   "cell_type": "markdown",
   "metadata": {},
   "source": [
    "## Tính tích phân số trị \n",
    "Phương pháp hình thang có lẽ là cách tính tích phân số trị phổ thông nhất. Tuy nhiên, có một số phương pháp khác: Simpson (dùng các đoạn cong thay cho đoạn gấp khúc), quadrature (cát tuyến, không qua hai điểm đầu và cuối), Richardson (ngoại suy để ước lượng tốt hơn dựa trên kết quả tính tích phân. Với mục đích luyện tập, ta sẽ lập trình các hàm thực hiện phương pháp này và so sánh kết quả với nghiệm giải tích.\n",
    "\n",
    "Ví dụ tính tích phân:\n",
    "$$ \\int_a^b f(x) dx $$"
   ]
  },
  {
   "cell_type": "markdown",
   "metadata": {},
   "source": [
    "Bây giờ áp dụng quy tắc hình thang để tính tích phân của hàm $f(x)$ với đoạn tính toán [cận_dưới, cận_trên] có chia thành *n* đoạn con. \n",
    "![](https://upload.wikimedia.org/wikipedia/commons/thumb/b/b1/Composite_trapezoidal_rule_illustration.svg/2000px-Composite_trapezoidal_rule_illustration.svg.png)"
   ]
  },
  {
   "cell_type": "code",
   "execution_count": null,
   "metadata": {
    "collapsed": true
   },
   "outputs": [],
   "source": []
  },
  {
   "cell_type": "code",
   "execution_count": 6,
   "metadata": {
    "collapsed": false
   },
   "outputs": [
    {
     "data": {
      "text/plain": [
       "t_phân_h_thang (generic function with 2 methods)"
      ]
     },
     "execution_count": 6,
     "metadata": {},
     "output_type": "execute_result"
    }
   ],
   "source": [
    "function t_phân_h_thang(f::Function, cận_dưới::Number, cận_trên::Number, số_đoạn::Number=1)\n",
    "    tổng = 0\n",
    "    for i = 1:số_đoạn\n",
    "        dài_đoạn = (cận_trên - cận_dưới)/số_đoạn\n",
    "        # đầu đoạn = a, a + Δx, a + 2Δx\n",
    "        đầu_đoạn = cận_dưới + (i - 1)*dài_đoạn\n",
    "        cuối_đoạn = đầu_đoạn + dài_đoạn\n",
    "        tổng += 0.5(f(đầu_đoạn) + f(cuối_đoạn)) * dài_đoạn\n",
    "    end\n",
    "    tổng\n",
    "end"
   ]
  },
  {
   "cell_type": "markdown",
   "metadata": {},
   "source": [
    "Ở đây hàm được thiết kế khéo léo: nếu người dùng không biết phải chọn số đoạn thế nào, thì giá trị mặc định bằng 1 của nó sẽ cho phép xấp xỉ (dù không chính xác mấy) tích phân với diện tích hình thang có hai đỉnh ở nút đầu và nút cuối!"
   ]
  },
  {
   "cell_type": "markdown",
   "metadata": {},
   "source": [
    "Tích phân acsimet:\n",
    "\n",
    "$$ I = \\int_0^1 x^2 dx $$\n",
    "\n",
    "kết qủa = 1/3."
   ]
  },
  {
   "cell_type": "code",
   "execution_count": 9,
   "metadata": {
    "collapsed": false
   },
   "outputs": [
    {
     "data": {
      "text/plain": [
       "0.33335"
      ]
     },
     "execution_count": 9,
     "metadata": {},
     "output_type": "execute_result"
    }
   ],
   "source": [
    "f(x) = x^2\n",
    "t_phân_h_thang(f, 0, 1, 100)\n",
    "t_phân_h_thang(x -> x^2, 0, 1, 100)"
   ]
  },
  {
   "cell_type": "markdown",
   "metadata": {},
   "source": [
    "Lấy ví dụ cụ thể. Tính tích phân sau bằng **2** đoạn:\n",
    "\n",
    "$$ \\int_0^{0.5} e^x dx $$\n",
    "\n",
    "Hãy ghi lại với độ chính xác đến **6** chữ số."
   ]
  },
  {
   "cell_type": "code",
   "execution_count": 9,
   "metadata": {
    "collapsed": false
   },
   "outputs": [
    {
     "data": {
      "text/plain": [
       "0.6520965130094514"
      ]
     },
     "execution_count": 9,
     "metadata": {},
     "output_type": "execute_result"
    }
   ],
   "source": [
    "f(x) = exp(x)\n",
    "\n",
    "t_phân_h_thang(f, 0, 0.5, 2)"
   ]
  },
  {
   "cell_type": "code",
   "execution_count": 10,
   "metadata": {
    "collapsed": false
   },
   "outputs": [
    {
     "data": {
      "text/plain": [
       "0.6520965130094514"
      ]
     },
     "execution_count": 10,
     "metadata": {},
     "output_type": "execute_result"
    }
   ],
   "source": [
    "# Hay gọi thẳng tên hàm\n",
    "t_phân_h_thang(exp, 0, 0.5, 2)"
   ]
  },
  {
   "cell_type": "markdown",
   "metadata": {},
   "source": [
    "Cần kiểm chứng kết quả của tích phân số trị bằng cách giải tích, nếu điều kiện cho phép (hàm $f(x)$ có thể tìm được nguyên hàm).\n",
    "\n",
    "Ta lập một hàm nhỏ để tính tích phân theo công thức giải tích. Julia không đủ khả năng để biến đổi toán học ra được nguyên hàm. Vì vậy người dùng sẽ phải khai báo nguyên hàm khi gọi hàm tính tích phân bằng cách giải tích.\n",
    "\n",
    "Mặc dù vậy, nguyên tắc chung để tính tích phân khi đã biết nguyên hàm thì rất đơn giản. Hãy hoàn thành hàm dưới đây.\n",
    "\n",
    "$$ \\int_a^b e^x dx = e^b - e^a $$"
   ]
  },
  {
   "cell_type": "code",
   "execution_count": 12,
   "metadata": {
    "collapsed": false,
    "scrolled": false
   },
   "outputs": [
    {
     "data": {
      "text/plain": [
       "t_phân_giải_tích (generic function with 1 method)"
      ]
     },
     "execution_count": 12,
     "metadata": {},
     "output_type": "execute_result"
    }
   ],
   "source": [
    "function t_phân_giải_tích(nguyên_hàm::Function, cận_dưới::Number, cận_trên::Number)\n",
    "    # Hoàn thành công thức dưới đây\n",
    "    nguyên_hàm(cận_trên) - nguyên_hàm(cận_dưới)\n",
    "end"
   ]
  },
  {
   "cell_type": "markdown",
   "metadata": {},
   "source": [
    "Với ví dụ đang xét, nguyên hàm đơn giản chỉ là $e^x$. Như vậy:"
   ]
  },
  {
   "cell_type": "code",
   "execution_count": 13,
   "metadata": {
    "collapsed": false
   },
   "outputs": [
    {
     "data": {
      "text/plain": [
       "0.6487212707001282"
      ]
     },
     "execution_count": 13,
     "metadata": {},
     "output_type": "execute_result"
    }
   ],
   "source": [
    "nguyên_hàm(x) = tan(x) - sin(x)\n",
    "# Nhập các tham số là cận dưới, cận trên vào lệnh gọi hàm dưới đây\n",
    "t_phân_giải_tích(nguyên_hàm, 0, 0.5)"
   ]
  },
  {
   "cell_type": "code",
   "execution_count": 14,
   "metadata": {
    "collapsed": false
   },
   "outputs": [
    {
     "data": {
      "text/plain": [
       "0.6487212707001282"
      ]
     },
     "execution_count": 14,
     "metadata": {},
     "output_type": "execute_result"
    }
   ],
   "source": [
    "# Hay gọi thẳng tên nguyên hàm\n",
    "t_phân_giải_tích(tan - sin, 0, 0.5)"
   ]
  },
  {
   "cell_type": "markdown",
   "metadata": {},
   "source": [
    "Như vậy kết quả tính bằng công thức hình thang chưa chính xác lắm. Bạn có thể tăng số đoạn tính tích phân. Chẳng hạn, lấy *n* = 4 đoạn. Rõ ràng lúc này kết quả sẽ khá hơn."
   ]
  },
  {
   "cell_type": "code",
   "execution_count": 15,
   "metadata": {
    "collapsed": false
   },
   "outputs": [
    {
     "data": {
      "text/plain": [
       "0.6520965130094514"
      ]
     },
     "execution_count": 15,
     "metadata": {},
     "output_type": "execute_result"
    }
   ],
   "source": [
    "t_phân_h_thang(exp, 0, 0.5, 2)"
   ]
  },
  {
   "cell_type": "code",
   "execution_count": 14,
   "metadata": {
    "collapsed": false
   },
   "outputs": [
    {
     "data": {
      "text/plain": [
       "0.6495657399653542"
      ]
     },
     "execution_count": 14,
     "metadata": {},
     "output_type": "execute_result"
    }
   ],
   "source": [
    "t_phân_h_thang(exp, 0, 0.5, 4)"
   ]
  },
  {
   "cell_type": "markdown",
   "metadata": {},
   "source": [
    "Giả như bạn không biết kết quả giải tích của tích phân trên. Bạn chỉ biết kết quả trường hợp chia 2 đoạn và trường hợp chia 4 đoạn (tốt hơn). Bạn không được chia thêm đoạn nữa. Vậy bạn sẽ hài lòng với kết quả tính 4 đoạn? \n",
    "\n",
    "Gần như vậy. Song những người thạo tính toán thậm chí còn chỉ ra một phương pháp tốt hơn nữa: ngoại suy kết quả. Họ biết được giá trị của việc chia nhiều đoạn: nếu số đoạn tăng gấp đôi thì kết quả sẽ tốt gấp bốn lần. Vì vậy kết quả chia 4 đoạn sẽ tốt gấp bốn lần chia 2 đoạn. Nhưng nếu kết hợp kết quả chia 4 đoạn với kết quả chia 2 đoạn thì mới là tốt hơn cả. Công thức ngoại suy để tính tích phân $I$ là:\n",
    "$ I \\approx \\frac{4}{3} I_{4d} - \\frac{1}{3} I_{2d} $\n",
    "\n"
   ]
  },
  {
   "cell_type": "code",
   "execution_count": 16,
   "metadata": {
    "collapsed": false
   },
   "outputs": [
    {
     "data": {
      "text/plain": [
       "0.6487221489506552"
      ]
     },
     "execution_count": 16,
     "metadata": {},
     "output_type": "execute_result"
    }
   ],
   "source": [
    "(4/3)*t_phân_h_thang(exp, 0, 0.5, 4) - (1/3)*t_phân_h_thang(exp, 0, 0.5, 2)"
   ]
  },
  {
   "cell_type": "markdown",
   "metadata": {},
   "source": [
    "Những phương pháp số trị, như phương pháp hình thang này, rất quan trọng để giúp ta tìm được \n",
    "tích phân của những hàm số bất kì mà không xác định được nguyên hàm. Hãy hình dung khi đó \n",
    "phép ngoại suy sẽ giúp bạn thế nào.\n",
    "#### Bài tập\n",
    "Hãy tính tích phân số trị \n",
    "$$ \\int_0^1 \\exp{x^2} dx $$\n",
    "\n",
    "(Lần này không có nguyên hàm.)"
   ]
  },
  {
   "cell_type": "markdown",
   "metadata": {},
   "source": [
    "----\n",
    "<span style=\"color:darkgray; font-family:Georgia; font-size:1em;\">Tài liệu học Julia. Hướng dẫn: GV Nguyễn Quang Chiến, khoa B, ĐH Thủy lợi.<br />\n",
    "Số liệu cho ví dụ được lấy từ Dalquist và Bjorck (1974) <i>Numerical Methods</i>.</span>"
   ]
  }
 ],
 "metadata": {
  "kernelspec": {
   "display_name": "Julia 0.3.12",
   "language": "julia",
   "name": "julia-0.3"
  },
  "language_info": {
   "file_extension": ".jl",
   "mimetype": "application/julia",
   "name": "julia",
   "version": "0.3.12"
  }
 },
 "nbformat": 4,
 "nbformat_minor": 0
}
